{
 "cells": [
  {
   "cell_type": "code",
   "execution_count": 70,
   "metadata": {},
   "outputs": [
    {
     "name": "stdout",
     "output_type": "stream",
     "text": [
      "*      *\n",
      "**    **\n",
      "***  ***\n",
      "********\n"
     ]
    }
   ],
   "source": [
    "for i in range(4):\n",
    "    for j in range (8):\n",
    "        if i == 0  and j in [1,2,3,4,5,6]:\n",
    "            print(\" \", end = '')\n",
    "        elif i == 1 and j in [2,3,4,5]:\n",
    "            print(\" \", end = '')\n",
    "        elif i == 2 and j in [3,4]:\n",
    "            print(\" \", end = '')\n",
    "        elif j != 7:\n",
    "            print(\"*\", end = '')\n",
    "        else:\n",
    "            print(\"*\")"
   ]
  },
  {
   "cell_type": "code",
   "execution_count": null,
   "metadata": {},
   "outputs": [],
   "source": []
  }
 ],
 "metadata": {
  "kernelspec": {
   "display_name": "Python 3",
   "language": "python",
   "name": "python3"
  },
  "language_info": {
   "codemirror_mode": {
    "name": "ipython",
    "version": 3
   },
   "file_extension": ".py",
   "mimetype": "text/x-python",
   "name": "python",
   "nbconvert_exporter": "python",
   "pygments_lexer": "ipython3",
   "version": "3.7.6"
  }
 },
 "nbformat": 4,
 "nbformat_minor": 4
}
