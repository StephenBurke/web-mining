{
 "cells": [
  {
   "cell_type": "markdown",
   "metadata": {},
   "source": [
    "Stephen Burke  \n",
    "Matthew Lillard"
   ]
  },
  {
   "cell_type": "code",
   "execution_count": 1,
   "metadata": {},
   "outputs": [],
   "source": [
    "import tweepy \n",
    "from twitter_keys import API_KEY, API_SECRET, ACCESS_TOKEN, ACCESS_SECRET\n",
    "\n",
    "auth = tweepy.OAuthHandler(API_KEY, API_SECRET)\n",
    "auth.set_access_token(ACCESS_TOKEN, ACCESS_SECRET)\n",
    "api = tweepy.API(auth)"
   ]
  },
  {
   "cell_type": "code",
   "execution_count": 2,
   "metadata": {},
   "outputs": [
    {
     "name": "stdout",
     "output_type": "stream",
     "text": [
      "@BadEyeAdam @DnDBeyond A blessing on you and your journey my friend. @BeadleAndGrimms would not be where we are today without your generosity and support. Mad love brother.\n"
     ]
    }
   ],
   "source": [
    "import pickle\n",
    "\n",
    "shaggytweets = api.user_timeline('MatthewLillard', count = 50, tweet_mode = 'extended')\n",
    "\n",
    "with open('shaggytweets-2021.pkl', 'wb') as f:\n",
    "    pickle.dump(shaggytweets, f)\n",
    "    \n",
    "print(shaggytweets[0].full_text)"
   ]
  },
  {
   "cell_type": "code",
   "execution_count": 3,
   "metadata": {},
   "outputs": [
    {
     "name": "stdout",
     "output_type": "stream",
     "text": [
      "@BadEyeAdam @DnDBeyond A blessing on you and your journey my friend. @BeadleAndGrimms would not be where we are today without your generosity and support. Mad love brother.\n"
     ]
    }
   ],
   "source": [
    "with open('shaggytweets-2021.pkl', 'rb') as f:\n",
    "    shaggytweets_read = pickle.load(f)\n",
    "    \n",
    "print(shaggytweets_read[0].full_text)"
   ]
  }
 ],
 "metadata": {
  "kernelspec": {
   "display_name": "Python 3",
   "language": "python",
   "name": "python3"
  },
  "language_info": {
   "codemirror_mode": {
    "name": "ipython",
    "version": 3
   },
   "file_extension": ".py",
   "mimetype": "text/x-python",
   "name": "python",
   "nbconvert_exporter": "python",
   "pygments_lexer": "ipython3",
   "version": "3.7.6"
  }
 },
 "nbformat": 4,
 "nbformat_minor": 4
}
